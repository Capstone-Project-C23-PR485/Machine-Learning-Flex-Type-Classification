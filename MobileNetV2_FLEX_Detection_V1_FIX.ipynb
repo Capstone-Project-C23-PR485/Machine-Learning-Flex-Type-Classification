{
  "cells": [
    {
      "cell_type": "markdown",
      "metadata": {
        "id": "Dy_gmx9A5eL9"
      },
      "source": [
        "Import Library"
      ]
    },
    {
      "cell_type": "code",
      "execution_count": null,
      "metadata": {
        "colab": {
          "base_uri": "https://localhost:8080/"
        },
        "id": "KyOkU7ysp4ot",
        "outputId": "2902a847-4329-4300-8945-ffe0a86f680f"
      },
      "outputs": [
        {
          "output_type": "stream",
          "name": "stdout",
          "text": [
            "Looking in indexes: https://pypi.org/simple, https://us-python.pkg.dev/colab-wheels/public/simple/\n",
            "Collecting tensorflow-addons\n",
            "  Downloading tensorflow_addons-0.20.0-cp310-cp310-manylinux_2_17_x86_64.manylinux2014_x86_64.whl (591 kB)\n",
            "\u001b[2K     \u001b[90m━━━━━━━━━━━━━━━━━━━━━━━━━━━━━━━━━━━━━━\u001b[0m \u001b[32m591.0/591.0 kB\u001b[0m \u001b[31m16.9 MB/s\u001b[0m eta \u001b[36m0:00:00\u001b[0m\n",
            "\u001b[?25hRequirement already satisfied: packaging in /usr/local/lib/python3.10/dist-packages (from tensorflow-addons) (23.1)\n",
            "Collecting typeguard<3.0.0,>=2.7 (from tensorflow-addons)\n",
            "  Downloading typeguard-2.13.3-py3-none-any.whl (17 kB)\n",
            "Installing collected packages: typeguard, tensorflow-addons\n",
            "Successfully installed tensorflow-addons-0.20.0 typeguard-2.13.3\n"
          ]
        }
      ],
      "source": [
        "!pip install tensorflow-addons"
      ]
    },
    {
      "cell_type": "code",
      "execution_count": null,
      "metadata": {
        "id": "9cODtPQN5VVw"
      },
      "outputs": [],
      "source": [
        "import os\n",
        "import tensorflow as tf\n",
        "import pandas as pd\n",
        "import matplotlib.pyplot as plt\n",
        "from tensorflow.keras.regularizers import l2\n",
        "from tensorflow.keras.preprocessing.image import ImageDataGenerator\n",
        "from tensorflow.keras.applications import MobileNetV2\n",
        "from tensorflow.keras.layers import GlobalAveragePooling2D, Dense, Flatten, Activation, Dropout, BatchNormalization, GaussianNoise\n",
        "from tensorflow.keras.models import Model\n",
        "from tensorflow.keras.optimizers import Adam\n",
        "from keras.callbacks import EarlyStopping"
      ]
    },
    {
      "cell_type": "markdown",
      "metadata": {
        "id": "PSfFPiZp5j28"
      },
      "source": [
        "Define the dataset paths and parameters"
      ]
    },
    {
      "cell_type": "code",
      "execution_count": null,
      "metadata": {
        "colab": {
          "base_uri": "https://localhost:8080/"
        },
        "id": "a0YIhcO35mrQ",
        "outputId": "e6d76af1-29a6-4844-c031-3049797d0e0d"
      },
      "outputs": [
        {
          "output_type": "stream",
          "name": "stdout",
          "text": [
            "Mounted at /content/drive/\n"
          ]
        }
      ],
      "source": [
        "# Mount Google Drive\n",
        "from google.colab import drive\n",
        "\n",
        "drive.mount('/content/drive/')"
      ]
    },
    {
      "cell_type": "code",
      "execution_count": null,
      "metadata": {
        "id": "srF0_1eV5hMv"
      },
      "outputs": [],
      "source": [
        "base_dir = '/content/drive/MyDrive/Flex Model/merged_dataset'\n",
        "train_data_dir = os.path.join(base_dir, 'train', 'dataset')\n",
        "val_data_dir = os.path.join(base_dir, 'valid', 'dataset')\n",
        "test_data_dir = os.path.join(base_dir, 'test', 'dataset')\n",
        "annotations_train_file = os.path.join(base_dir, 'train', '_annotations.csv')\n",
        "annotations_val_file = os.path.join(base_dir, 'valid', '_annotations.csv')\n",
        "annotations_test_file = os.path.join(base_dir, 'test', '_annotations.csv')"
      ]
    },
    {
      "cell_type": "markdown",
      "metadata": {
        "id": "XNiJoqdf6fpY"
      },
      "source": [
        "Load and preprocess the data"
      ]
    },
    {
      "cell_type": "code",
      "execution_count": null,
      "metadata": {
        "id": "Vl1D7Ggqn7rk"
      },
      "outputs": [],
      "source": [
        "batch_size = 512"
      ]
    },
    {
      "cell_type": "code",
      "execution_count": null,
      "metadata": {
        "colab": {
          "base_uri": "https://localhost:8080/"
        },
        "id": "kzMXS0bY6d3G",
        "outputId": "bbc60d87-e85f-4781-bd9c-5a274c6ed586"
      },
      "outputs": [
        {
          "output_type": "stream",
          "name": "stderr",
          "text": [
            "/usr/local/lib/python3.10/dist-packages/keras/preprocessing/image.py:1137: UserWarning: Found 2666 invalid image filename(s) in x_col=\"filename\". These filename(s) will be ignored.\n",
            "  warnings.warn(\n"
          ]
        },
        {
          "output_type": "stream",
          "name": "stdout",
          "text": [
            "Found 256801 validated image filenames belonging to 2 classes.\n",
            "Found 7944 validated image filenames belonging to 2 classes.\n"
          ]
        },
        {
          "output_type": "stream",
          "name": "stderr",
          "text": [
            "/usr/local/lib/python3.10/dist-packages/keras/preprocessing/image.py:1137: UserWarning: Found 1444 invalid image filename(s) in x_col=\"filename\". These filename(s) will be ignored.\n",
            "  warnings.warn(\n"
          ]
        }
      ],
      "source": [
        "annotations_train = pd.read_csv(annotations_train_file)\n",
        "annotations_val = pd.read_csv(annotations_val_file)\n",
        "annotations_test = pd.read_csv(annotations_test_file)\n",
        "\n",
        "annotations_train['class'] = annotations_train['class'].astype(str)\n",
        "annotations_val['class'] = annotations_val['class'].astype(str)\n",
        "annotations_test['class'] = annotations_test['class'].astype(str)\n",
        "\n",
        "# Create image data generators with augmentation for training and validation\n",
        "# Define custom preprocessing function\n",
        "# def preprocess_image(image):\n",
        "#     # Add Gaussian noise\n",
        "#     noisy_image = GaussianNoise(0.1)(image, training=True)\n",
        "\n",
        "#     # Adjust saturation\n",
        "#     saturated_image = tf.image.random_saturation(noisy_image, lower=0.5, upper=1.5)\n",
        "\n",
        "#     # Adjust brightness\n",
        "#     brightened_image = tf.image.random_brightness(saturated_image, max_delta=0.2)\n",
        "\n",
        "#     # Adjust contrast\n",
        "#     contrasted_image = tf.image.random_contrast(brightened_image, lower=0.7, upper=1.3)\n",
        "\n",
        "#     # Rescale to [0, 1]\n",
        "#     preprocessed_image = tf.clip_by_value(contrasted_image, 0.0, 1.0)\n",
        "\n",
        "#     return preprocessed_image\n",
        "\n",
        "# Create image data generators with augmentation for training and validation\n",
        "train_datagen = ImageDataGenerator(\n",
        "    rescale=1.0/255.0,\n",
        "    rotation_range=20,\n",
        "    zoom_range=0.2,\n",
        "    horizontal_flip=True,\n",
        "    width_shift_range=0.1,\n",
        "    height_shift_range=0.1,\n",
        "    shear_range=0.1,\n",
        "    # preprocessing_function=preprocess_image\n",
        ")\n",
        "\n",
        "val_datagen = ImageDataGenerator(rescale=1.0/255.0)\n",
        "\n",
        "# Load and preprocess the training data\n",
        "train_generator = train_datagen.flow_from_dataframe(\n",
        "    dataframe=annotations_train,\n",
        "    directory=train_data_dir,\n",
        "    x_col='filename',\n",
        "    y_col='class',\n",
        "    target_size=(224, 224),\n",
        "    batch_size=batch_size,\n",
        "    class_mode='binary'\n",
        ")\n",
        "\n",
        "# Load and preprocess the validation data\n",
        "val_generator = val_datagen.flow_from_dataframe(\n",
        "    dataframe=annotations_val,\n",
        "    directory=val_data_dir,\n",
        "    x_col='filename',\n",
        "    y_col='class',\n",
        "    target_size=(224, 224),\n",
        "    batch_size=batch_size,\n",
        "    class_mode='binary',\n",
        "    shuffle=False\n",
        ")"
      ]
    },
    {
      "cell_type": "code",
      "execution_count": null,
      "metadata": {
        "id": "KCrtasn36YJZ"
      },
      "outputs": [],
      "source": [
        "num_classes = annotations_train['class'].nunique()"
      ]
    },
    {
      "cell_type": "markdown",
      "metadata": {
        "id": "Q45XW9tL7Lva"
      },
      "source": [
        "Build the model"
      ]
    },
    {
      "cell_type": "code",
      "execution_count": null,
      "metadata": {
        "id": "wMvUwmOW6phA"
      },
      "outputs": [],
      "source": [
        "# Load the MobileNetV2 model (pretrained on ImageNet)\n",
        "base_model = MobileNetV2(include_top=False, weights='imagenet', input_shape=(224, 224, 3))\n",
        "\n",
        "# Add custom layers on top of the base model\n",
        "x = base_model.output\n",
        "x = GlobalAveragePooling2D()(x)\n",
        "x = BatchNormalization()(x)\n",
        "x = Dropout(0.4)(x)\n",
        "x = Dense(512, activation='relu', kernel_regularizer=l2(0.01))(x)\n",
        "x = BatchNormalization()(x)\n",
        "x = Dropout(0.5)(x)\n",
        "predictions = Dense(1, activation='sigmoid')(x)\n",
        "\n",
        "# Create the final model\n",
        "model = Model(inputs=base_model.input, outputs=predictions)\n",
        "\n",
        "# Compile the model\n",
        "model.compile(optimizer=Adam(learning_rate=0.001), loss='binary_crossentropy', metrics=['accuracy'])\n"
      ]
    },
    {
      "cell_type": "markdown",
      "metadata": {
        "id": "oV1X1AKF8b0x"
      },
      "source": [
        "Train the model"
      ]
    },
    {
      "cell_type": "code",
      "execution_count": null,
      "metadata": {
        "id": "opJ4c7hgIz0d"
      },
      "outputs": [],
      "source": [
        "# Define the early stopping callback\n",
        "early_stopping = EarlyStopping(monitor='val_loss', patience=3)"
      ]
    },
    {
      "cell_type": "code",
      "execution_count": null,
      "metadata": {
        "colab": {
          "base_uri": "https://localhost:8080/"
        },
        "id": "pIzd8Wz48ZY9",
        "outputId": "ce9a096a-cd97-4cb1-e0e1-227612edfe35"
      },
      "outputs": [
        {
          "output_type": "stream",
          "name": "stdout",
          "text": [
            "Epoch 1/5\n",
            "501/501 [==============================] - 7644s 15s/step - loss: 1.8937 - accuracy: 0.8752 - val_loss: 0.6358 - val_accuracy: 0.9333\n",
            "Epoch 2/5\n",
            "501/501 [==============================] - 7502s 15s/step - loss: 0.3689 - accuracy: 0.9275 - val_loss: 0.7533 - val_accuracy: 0.5875\n",
            "Epoch 3/5\n",
            "501/501 [==============================] - 7521s 15s/step - loss: 0.3492 - accuracy: 0.9244 - val_loss: 0.6914 - val_accuracy: 0.5917\n",
            "Epoch 4/5\n",
            "501/501 [==============================] - 7503s 15s/step - loss: 0.3368 - accuracy: 0.9281 - val_loss: 0.6237 - val_accuracy: 0.7021\n",
            "Epoch 5/5\n",
            "501/501 [==============================] - 7524s 15s/step - loss: 0.3221 - accuracy: 0.9301 - val_loss: 0.4181 - val_accuracy: 0.9333\n"
          ]
        }
      ],
      "source": [
        "# history = model.fit(\n",
        "#     train_generator,\n",
        "#     steps_per_epoch=train_generator.n // batch_size,\n",
        "#     epochs=3,\n",
        "#     validation_data=val_generator,\n",
        "#     validation_steps=val_generator.n // batch_size,\n",
        "#     callbacks=[early_stopping] \n",
        "# )\n",
        "\n",
        "history = model.fit(\n",
        "    train_generator,\n",
        "    steps_per_epoch=train_generator.n // batch_size,\n",
        "    epochs=5,\n",
        "    validation_data=val_generator,\n",
        "    validation_steps=val_generator.n // batch_size,\n",
        "    callbacks=[early_stopping]\n",
        ")\n"
      ]
    },
    {
      "cell_type": "markdown",
      "metadata": {
        "id": "bgX4vK458yr5"
      },
      "source": [
        "Evaluate the model"
      ]
    },
    {
      "cell_type": "code",
      "execution_count": null,
      "metadata": {
        "id": "KlGCoF99sGdH",
        "colab": {
          "base_uri": "https://localhost:8080/",
          "height": 927
        },
        "outputId": "12c45a3c-a8b2-4a0f-e25a-2d934cc06b80"
      },
      "outputs": [
        {
          "output_type": "display_data",
          "data": {
            "text/plain": [
              "<Figure size 640x480 with 1 Axes>"
            ],
            "image/png": "[encoded data removed]"
          },
          "metadata": {}
        },
        {
          "output_type": "display_data",
          "data": {
            "text/plain": [
              "<Figure size 640x480 with 1 Axes>"
            ],
            "image/png": "[encoded data removed]"
          },
          "metadata": {}
        }
      ],
      "source": [
        "# Plot training and validation accuracy\n",
        "plt.plot(history.history['accuracy'])\n",
        "plt.plot(history.history['val_accuracy'])\n",
        "plt.title('Training and Validation Accuracy')\n",
        "plt.xlabel('Epoch')\n",
        "plt.ylabel('Accuracy')\n",
        "plt.legend(['Train', 'Validation'], loc='upper left')\n",
        "plt.show()\n",
        "\n",
        "# Plot training and validation loss\n",
        "plt.plot(history.history['loss'])\n",
        "plt.plot(history.history['val_loss'])\n",
        "plt.title('Training and Validation Loss')\n",
        "plt.xlabel('Epoch')\n",
        "plt.ylabel('Loss')\n",
        "plt.legend(['Train', 'Validation'], loc='upper right')\n",
        "plt.show()"
      ]
    },
    {
      "cell_type": "code",
      "execution_count": null,
      "metadata": {
        "id": "My2j1EGd8zL5",
        "colab": {
          "base_uri": "https://localhost:8080/"
        },
        "outputId": "13421f99-97ce-429e-9084-571ae4f83825"
      },
      "outputs": [
        {
          "output_type": "stream",
          "name": "stdout",
          "text": [
            "Found 4598 validated image filenames belonging to 3 classes.\n",
            "9/9 [==============================] - 238s 25s/step - loss: 0.7572 - accuracy: 0.6667\n",
            "Test loss: 0.7572\n",
            "Test accuracy: 0.6667\n"
          ]
        }
      ],
      "source": [
        "test_datagen = ImageDataGenerator(rescale=1.0/255.0)\n",
        "\n",
        "# Load the annotations test file into a DataFrame\n",
        "df = pd.read_csv(annotations_test_file)\n",
        "df['class'] = df['class'].astype(str)\n",
        "\n",
        "# Load and preprocess the test data\n",
        "test_generator = test_datagen.flow_from_dataframe(\n",
        "    dataframe=df,\n",
        "    directory=test_data_dir,\n",
        "    x_col='filename',\n",
        "    y_col='class',\n",
        "    target_size=(224, 224),\n",
        "    batch_size=batch_size,\n",
        "    class_mode='categorical',\n",
        "    shuffle=False\n",
        ")\n",
        "\n",
        "# Evaluate the model on the test data\n",
        "loss, accuracy = model.evaluate(test_generator)\n",
        "\n",
        "print(f'Test loss: {loss:.4f}')\n",
        "print(f'Test accuracy: {accuracy:.4f}')\n"
      ]
    },
    {
      "cell_type": "markdown",
      "metadata": {
        "id": "pL_kZ5ZIrpUl"
      },
      "source": [
        "Save Model"
      ]
    },
    {
      "cell_type": "code",
      "source": [
        "from tensorflow.keras.models import load_model\n",
        "model_path = '/content/drive/MyDrive/Flex Model/model_mobilenetv2_V1.h5'\n",
        "model.save(model_path)"
      ],
      "metadata": {
        "id": "wF4nDwLQ8eGe"
      },
      "execution_count": null,
      "outputs": []
    }
  ],
  "metadata": {
    "colab": {
      "provenance": [],
      "gpuType": "T4",
      "toc_visible": true
    },
    "kernelspec": {
      "display_name": "Python 3",
      "name": "python3"
    },
    "language_info": {
      "name": "python"
    }
  },
  "nbformat": 4,
  "nbformat_minor": 0
}